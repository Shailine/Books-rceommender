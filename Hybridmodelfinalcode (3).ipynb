{
  "nbformat": 4,
  "nbformat_minor": 0,
  "metadata": {
    "colab": {
      "name": "Hybridmodelfinalcode.ipynb",
      "provenance": []
    },
    "kernelspec": {
      "name": "python3",
      "display_name": "Python 3"
    },
    "language_info": {
      "name": "python"
    }
  },
  "cells": [
    {
      "cell_type": "code",
      "execution_count": null,
      "metadata": {
        "colab": {
          "base_uri": "https://localhost:8080/"
        },
        "id": "K7VkMUG7lZR4",
        "outputId": "b8394e8a-3126-47e4-a81e-c064321fca10"
      },
      "outputs": [
        {
          "output_type": "stream",
          "name": "stdout",
          "text": [
            "Drive already mounted at /content/drive; to attempt to forcibly remount, call drive.mount(\"/content/drive\", force_remount=True).\n"
          ]
        }
      ],
      "source": [
        "from google.colab import drive #mounting drive to read and write data to drive\n",
        "drive.mount(\"/content/drive\")"
      ]
    },
    {
      "cell_type": "code",
      "source": [
        "#if running in Jupyter first we install scikit-surprise by going to anaconda comand prompt and typing the command below\n",
        "#conda install -c conda-forge scikit-surprise\n",
        "! pip install scikit-surprise\n",
        "import surprise\n",
        "import numpy as np # linear algebra\n",
        "import pandas as pd # data processing, CSV file I/O (e.g. pd.read_csv)\n",
        "from sklearn.model_selection import train_test_split\n",
        "import os\n",
        "print(os.listdir(\"/content/drive/MyDrive/books\"))"
      ],
      "metadata": {
        "colab": {
          "base_uri": "https://localhost:8080/"
        },
        "id": "04ObpAogmZNc",
        "outputId": "a4fadeb3-bcbd-429c-fa5f-cecd89999e9a"
      },
      "execution_count": null,
      "outputs": [
        {
          "output_type": "stream",
          "name": "stdout",
          "text": [
            "Requirement already satisfied: scikit-surprise in /usr/local/lib/python3.7/dist-packages (1.1.1)\n",
            "Requirement already satisfied: numpy>=1.11.2 in /usr/local/lib/python3.7/dist-packages (from scikit-surprise) (1.21.5)\n",
            "Requirement already satisfied: scipy>=1.0.0 in /usr/local/lib/python3.7/dist-packages (from scikit-surprise) (1.4.1)\n",
            "Requirement already satisfied: joblib>=0.11 in /usr/local/lib/python3.7/dist-packages (from scikit-surprise) (1.1.0)\n",
            "Requirement already satisfied: six>=1.10.0 in /usr/local/lib/python3.7/dist-packages (from scikit-surprise) (1.15.0)\n",
            "['books.csv', 'to_read.csv', 'ratings.csv', 'book_tags.csv', 'tags.csv', 'sample_book.xml']\n"
          ]
        }
      ]
    },
    {
      "cell_type": "code",
      "source": [
        "raw=pd.read_csv('/content/drive/MyDrive/books/ratings.csv')\n",
        "raw.drop_duplicates(inplace=True)\n",
        "raw=raw.head(1000)\n",
        "print('we have',raw.shape[0], 'ratings')\n",
        "print('the number of unique users we have is:', len(raw.user_id.unique()))\n",
        "print('the number of unique books we have is:', len(raw.book_id.unique()))\n",
        "print(\"The median user rated %d books.\"%raw.user_id.value_counts().median())\n",
        "print('The max rating is: %d'%raw.rating.max(),\"the min rating is: %d\"%raw.rating.min())\n",
        "raw.head()"
      ],
      "metadata": {
        "colab": {
          "base_uri": "https://localhost:8080/",
          "height": 298
        },
        "id": "TM1wkZcInVOd",
        "outputId": "9222a566-4283-4726-a079-17e7576aa3d3"
      },
      "execution_count": null,
      "outputs": [
        {
          "output_type": "stream",
          "name": "stdout",
          "text": [
            "we have 1000 ratings\n",
            "the number of unique users we have is: 288\n",
            "the number of unique books we have is: 10\n",
            "The median user rated 3 books.\n",
            "The max rating is: 5 the min rating is: 1\n"
          ]
        },
        {
          "output_type": "execute_result",
          "data": {
            "text/plain": [
              "   book_id  user_id  rating\n",
              "0        1      314       5\n",
              "1        1      439       3\n",
              "2        1      588       5\n",
              "3        1     1169       4\n",
              "4        1     1185       4"
            ],
            "text/html": [
              "\n",
              "  <div id=\"df-042feda0-54e9-4b21-bd5a-8bde0d24ffa0\">\n",
              "    <div class=\"colab-df-container\">\n",
              "      <div>\n",
              "<style scoped>\n",
              "    .dataframe tbody tr th:only-of-type {\n",
              "        vertical-align: middle;\n",
              "    }\n",
              "\n",
              "    .dataframe tbody tr th {\n",
              "        vertical-align: top;\n",
              "    }\n",
              "\n",
              "    .dataframe thead th {\n",
              "        text-align: right;\n",
              "    }\n",
              "</style>\n",
              "<table border=\"1\" class=\"dataframe\">\n",
              "  <thead>\n",
              "    <tr style=\"text-align: right;\">\n",
              "      <th></th>\n",
              "      <th>book_id</th>\n",
              "      <th>user_id</th>\n",
              "      <th>rating</th>\n",
              "    </tr>\n",
              "  </thead>\n",
              "  <tbody>\n",
              "    <tr>\n",
              "      <th>0</th>\n",
              "      <td>1</td>\n",
              "      <td>314</td>\n",
              "      <td>5</td>\n",
              "    </tr>\n",
              "    <tr>\n",
              "      <th>1</th>\n",
              "      <td>1</td>\n",
              "      <td>439</td>\n",
              "      <td>3</td>\n",
              "    </tr>\n",
              "    <tr>\n",
              "      <th>2</th>\n",
              "      <td>1</td>\n",
              "      <td>588</td>\n",
              "      <td>5</td>\n",
              "    </tr>\n",
              "    <tr>\n",
              "      <th>3</th>\n",
              "      <td>1</td>\n",
              "      <td>1169</td>\n",
              "      <td>4</td>\n",
              "    </tr>\n",
              "    <tr>\n",
              "      <th>4</th>\n",
              "      <td>1</td>\n",
              "      <td>1185</td>\n",
              "      <td>4</td>\n",
              "    </tr>\n",
              "  </tbody>\n",
              "</table>\n",
              "</div>\n",
              "      <button class=\"colab-df-convert\" onclick=\"convertToInteractive('df-042feda0-54e9-4b21-bd5a-8bde0d24ffa0')\"\n",
              "              title=\"Convert this dataframe to an interactive table.\"\n",
              "              style=\"display:none;\">\n",
              "        \n",
              "  <svg xmlns=\"http://www.w3.org/2000/svg\" height=\"24px\"viewBox=\"0 0 24 24\"\n",
              "       width=\"24px\">\n",
              "    <path d=\"M0 0h24v24H0V0z\" fill=\"none\"/>\n",
              "    <path d=\"M18.56 5.44l.94 2.06.94-2.06 2.06-.94-2.06-.94-.94-2.06-.94 2.06-2.06.94zm-11 1L8.5 8.5l.94-2.06 2.06-.94-2.06-.94L8.5 2.5l-.94 2.06-2.06.94zm10 10l.94 2.06.94-2.06 2.06-.94-2.06-.94-.94-2.06-.94 2.06-2.06.94z\"/><path d=\"M17.41 7.96l-1.37-1.37c-.4-.4-.92-.59-1.43-.59-.52 0-1.04.2-1.43.59L10.3 9.45l-7.72 7.72c-.78.78-.78 2.05 0 2.83L4 21.41c.39.39.9.59 1.41.59.51 0 1.02-.2 1.41-.59l7.78-7.78 2.81-2.81c.8-.78.8-2.07 0-2.86zM5.41 20L4 18.59l7.72-7.72 1.47 1.35L5.41 20z\"/>\n",
              "  </svg>\n",
              "      </button>\n",
              "      \n",
              "  <style>\n",
              "    .colab-df-container {\n",
              "      display:flex;\n",
              "      flex-wrap:wrap;\n",
              "      gap: 12px;\n",
              "    }\n",
              "\n",
              "    .colab-df-convert {\n",
              "      background-color: #E8F0FE;\n",
              "      border: none;\n",
              "      border-radius: 50%;\n",
              "      cursor: pointer;\n",
              "      display: none;\n",
              "      fill: #1967D2;\n",
              "      height: 32px;\n",
              "      padding: 0 0 0 0;\n",
              "      width: 32px;\n",
              "    }\n",
              "\n",
              "    .colab-df-convert:hover {\n",
              "      background-color: #E2EBFA;\n",
              "      box-shadow: 0px 1px 2px rgba(60, 64, 67, 0.3), 0px 1px 3px 1px rgba(60, 64, 67, 0.15);\n",
              "      fill: #174EA6;\n",
              "    }\n",
              "\n",
              "    [theme=dark] .colab-df-convert {\n",
              "      background-color: #3B4455;\n",
              "      fill: #D2E3FC;\n",
              "    }\n",
              "\n",
              "    [theme=dark] .colab-df-convert:hover {\n",
              "      background-color: #434B5C;\n",
              "      box-shadow: 0px 1px 3px 1px rgba(0, 0, 0, 0.15);\n",
              "      filter: drop-shadow(0px 1px 2px rgba(0, 0, 0, 0.3));\n",
              "      fill: #FFFFFF;\n",
              "    }\n",
              "  </style>\n",
              "\n",
              "      <script>\n",
              "        const buttonEl =\n",
              "          document.querySelector('#df-042feda0-54e9-4b21-bd5a-8bde0d24ffa0 button.colab-df-convert');\n",
              "        buttonEl.style.display =\n",
              "          google.colab.kernel.accessAllowed ? 'block' : 'none';\n",
              "\n",
              "        async function convertToInteractive(key) {\n",
              "          const element = document.querySelector('#df-042feda0-54e9-4b21-bd5a-8bde0d24ffa0');\n",
              "          const dataTable =\n",
              "            await google.colab.kernel.invokeFunction('convertToInteractive',\n",
              "                                                     [key], {});\n",
              "          if (!dataTable) return;\n",
              "\n",
              "          const docLinkHtml = 'Like what you see? Visit the ' +\n",
              "            '<a target=\"_blank\" href=https://colab.research.google.com/notebooks/data_table.ipynb>data table notebook</a>'\n",
              "            + ' to learn more about interactive tables.';\n",
              "          element.innerHTML = '';\n",
              "          dataTable['output_type'] = 'display_data';\n",
              "          await google.colab.output.renderOutput(dataTable, element);\n",
              "          const docLink = document.createElement('div');\n",
              "          docLink.innerHTML = docLinkHtml;\n",
              "          element.appendChild(docLink);\n",
              "        }\n",
              "      </script>\n",
              "    </div>\n",
              "  </div>\n",
              "  "
            ]
          },
          "metadata": {},
          "execution_count": 107
        }
      ]
    },
    {
      "cell_type": "code",
      "source": [
        "ratings.describe"
      ],
      "metadata": {
        "colab": {
          "base_uri": "https://localhost:8080/"
        },
        "id": "LeDnxWP8p91A",
        "outputId": "ed07de5b-0877-4af6-aa7d-2e7dbb48ad0f"
      },
      "execution_count": null,
      "outputs": [
        {
          "output_type": "execute_result",
          "data": {
            "text/plain": [
              "<bound method NDFrame.describe of      book_id  user_id  rating\n",
              "0          1      314       5\n",
              "1          1      439       3\n",
              "2          1      588       5\n",
              "3          1     1169       4\n",
              "4          1     1185       4\n",
              "..       ...      ...     ...\n",
              "995       10    50999       5\n",
              "996       10    51166       3\n",
              "997       10    51838       4\n",
              "998       10    52036       4\n",
              "999       10    53292       5\n",
              "\n",
              "[1000 rows x 3 columns]>"
            ]
          },
          "metadata": {},
          "execution_count": 108
        }
      ]
    },
    {
      "cell_type": "code",
      "source": [
        "rawTrain,rawholdout = train_test_split(ratings, test_size=0.25 )\n",
        "# when importing from a DF, you only need to specify the scale of the ratings.\n",
        "reader = surprise.Reader(rating_scale=(1,5)) \n",
        "#into surprise:\n",
        "data = surprise.Dataset.load_from_df(rawTrain,reader)\n",
        "holdout = surprise.Dataset.load_from_df(rawholdout,reader)\n",
        "holdout"
      ],
      "metadata": {
        "colab": {
          "base_uri": "https://localhost:8080/"
        },
        "id": "tRSnBr97ni65",
        "outputId": "850f5889-a8a8-46e2-b59f-954cbbd91550"
      },
      "execution_count": null,
      "outputs": [
        {
          "output_type": "execute_result",
          "data": {
            "text/plain": [
              "<surprise.dataset.DatasetAutoFolds at 0x7fa64628bbd0>"
            ]
          },
          "metadata": {},
          "execution_count": 15
        }
      ]
    },
    {
      "cell_type": "code",
      "source": [
        "kSplit = surprise.model_selection.split.KFold(n_splits=10, shuffle=True) # split data into folds."
      ],
      "metadata": {
        "id": "ve59KAjLnpLJ"
      },
      "execution_count": null,
      "outputs": []
    },
    {
      "cell_type": "code",
      "source": [
        "sim_options = sim_options = {'name': 'cosine','user_based': False  # compute  similarities between items\n",
        "               } \n",
        "collabKNN = surprise.KNNBasic(k=40,sim_options=sim_options) #try removing sim_options. You'll find memory errors. \n",
        "rmseKNN = []\n",
        "rmseSVD = []\n",
        "rmseCo = []\n",
        "rmseSlope = []\n",
        "for trainset, testset in kSplit.split(data): #iterate through the folds.\n",
        "    collabKNN.fit(trainset)\n",
        "    predictionsKNN = collabKNN.test(testset)\n",
        "    rmseKNN.append(surprise.accuracy.rmse(predictionsKNN,verbose=True))#get root means squared error"
      ],
      "metadata": {
        "colab": {
          "base_uri": "https://localhost:8080/"
        },
        "id": "pbt3nZvynwH3",
        "outputId": "d1909dd1-28b1-4ecd-9b4b-3f1d3bd49420"
      },
      "execution_count": null,
      "outputs": [
        {
          "output_type": "stream",
          "name": "stdout",
          "text": [
            "Computing the cosine similarity matrix...\n",
            "Done computing similarity matrix.\n",
            "RMSE: 1.0929\n",
            "Computing the cosine similarity matrix...\n",
            "Done computing similarity matrix.\n",
            "RMSE: 0.9572\n",
            "Computing the cosine similarity matrix...\n",
            "Done computing similarity matrix.\n",
            "RMSE: 1.0312\n",
            "Computing the cosine similarity matrix...\n",
            "Done computing similarity matrix.\n",
            "RMSE: 0.9745\n",
            "Computing the cosine similarity matrix...\n",
            "Done computing similarity matrix.\n",
            "RMSE: 1.0059\n",
            "Computing the cosine similarity matrix...\n",
            "Done computing similarity matrix.\n",
            "RMSE: 1.0864\n",
            "Computing the cosine similarity matrix...\n",
            "Done computing similarity matrix.\n",
            "RMSE: 1.2768\n",
            "Computing the cosine similarity matrix...\n",
            "Done computing similarity matrix.\n",
            "RMSE: 1.1174\n",
            "Computing the cosine similarity matrix...\n",
            "Done computing similarity matrix.\n",
            "RMSE: 1.0486\n",
            "Computing the cosine similarity matrix...\n",
            "Done computing similarity matrix.\n",
            "RMSE: 1.0568\n"
          ]
        }
      ]
    },
    {
      "cell_type": "code",
      "source": [
        "funkSVD = surprise.prediction_algorithms.matrix_factorization.SVD(n_factors=30,n_epochs=10,biased=True)"
      ],
      "metadata": {
        "id": "SbAjyVIfqcHY"
      },
      "execution_count": null,
      "outputs": []
    },
    {
      "cell_type": "code",
      "source": [
        "min_error = 1\n",
        "for trainset, testset in kSplit.split(data): #iterate through the folds.\n",
        "    funkSVD.fit(trainset)\n",
        "    predictionsSVD = funkSVD.test(testset)\n",
        "    rmseSVD.append(surprise.accuracy.rmse(predictionsSVD,verbose=True))#get root means squared error"
      ],
      "metadata": {
        "colab": {
          "base_uri": "https://localhost:8080/"
        },
        "id": "SLaJDIzCqxYt",
        "outputId": "01609922-fe3b-41d7-dca7-3b593d9dce42"
      },
      "execution_count": null,
      "outputs": [
        {
          "output_type": "stream",
          "name": "stdout",
          "text": [
            "RMSE: 1.1340\n",
            "RMSE: 0.9008\n",
            "RMSE: 0.9889\n",
            "RMSE: 1.1420\n",
            "RMSE: 0.9877\n",
            "RMSE: 1.0492\n",
            "RMSE: 1.1173\n",
            "RMSE: 1.0545\n",
            "RMSE: 1.0356\n",
            "RMSE: 1.0808\n"
          ]
        }
      ]
    },
    {
      "cell_type": "code",
      "source": [
        "coClus = surprise.prediction_algorithms.co_clustering.CoClustering(n_cltr_u=4,n_cltr_i=4,n_epochs=25) \n",
        "for trainset, testset in kSplit.split(data): #iterate through the folds.\n",
        "    coClus.fit(trainset)\n",
        "    predictionsCoClus = coClus.test(testset)\n",
        "    rmseCo.append(surprise.accuracy.rmse(predictionsCoClus,verbose=True))#get root means squared error"
      ],
      "metadata": {
        "colab": {
          "base_uri": "https://localhost:8080/"
        },
        "id": "bC_n5Rwoq8qU",
        "outputId": "c4506d7a-8e14-4b07-99e9-4ed0f521ffe5"
      },
      "execution_count": null,
      "outputs": [
        {
          "output_type": "stream",
          "name": "stderr",
          "text": [
            "/usr/local/lib/python3.7/dist-packages/ipykernel_launcher.py:3: DeprecationWarning: `np.int` is a deprecated alias for the builtin `int`. To silence this warning, use `int` by itself. Doing this will not modify any behavior and is safe. When replacing `np.int`, you may wish to use e.g. `np.int64` or `np.int32` to specify the precision. If you wish to review your current use, check the release note link for additional information.\n",
            "Deprecated in NumPy 1.20; for more details and guidance: https://numpy.org/devdocs/release/1.20.0-notes.html#deprecations\n",
            "  This is separate from the ipykernel package so we can avoid doing imports until\n"
          ]
        },
        {
          "output_type": "stream",
          "name": "stdout",
          "text": [
            "RMSE: 1.0218\n",
            "RMSE: 1.1310\n",
            "RMSE: 1.1448\n",
            "RMSE: 1.1877\n",
            "RMSE: 1.4609\n",
            "RMSE: 1.2365\n",
            "RMSE: 1.1138\n",
            "RMSE: 1.0758\n",
            "RMSE: 1.2221\n",
            "RMSE: 1.1173\n"
          ]
        }
      ]
    },
    {
      "cell_type": "code",
      "source": [
        "slopeOne = surprise.prediction_algorithms.slope_one.SlopeOne()"
      ],
      "metadata": {
        "id": "s9sDHb1UrEUG"
      },
      "execution_count": null,
      "outputs": []
    },
    {
      "cell_type": "code",
      "source": [
        "for trainset, testset in kSplit.split(data): #iterate through the folds.\n",
        "    slopeOne.fit(trainset)\n",
        "    predictionsSlope = slopeOne.test(testset)\n",
        "    rmseSlope.append(surprise.accuracy.rmse(predictionsSlope,verbose=True))#get root means squared error"
      ],
      "metadata": {
        "colab": {
          "base_uri": "https://localhost:8080/"
        },
        "id": "zlfgeVBTrLEX",
        "outputId": "8caac6a0-1097-4d65-981c-cb8ea744cb44"
      },
      "execution_count": null,
      "outputs": [
        {
          "output_type": "stream",
          "name": "stdout",
          "text": [
            "RMSE: 1.1184\n",
            "RMSE: 1.0616\n",
            "RMSE: 0.9774\n",
            "RMSE: 1.1738\n",
            "RMSE: 1.1191\n",
            "RMSE: 1.0650\n",
            "RMSE: 1.1312\n",
            "RMSE: 1.1439\n",
            "RMSE: 0.9495\n",
            "RMSE: 1.0395\n"
          ]
        },
        {
          "output_type": "stream",
          "name": "stderr",
          "text": [
            "/usr/local/lib/python3.7/dist-packages/ipykernel_launcher.py:2: DeprecationWarning: `np.int` is a deprecated alias for the builtin `int`. To silence this warning, use `int` by itself. Doing this will not modify any behavior and is safe. When replacing `np.int`, you may wish to use e.g. `np.int64` or `np.int32` to specify the precision. If you wish to review your current use, check the release note link for additional information.\n",
            "Deprecated in NumPy 1.20; for more details and guidance: https://numpy.org/devdocs/release/1.20.0-notes.html#deprecations\n",
            "  \n"
          ]
        }
      ]
    },
    {
      "cell_type": "code",
      "source": [
        "from surprise import AlgoBase\n",
        "\n",
        "class HybridModel(AlgoBase):\n",
        "\n",
        "    def __init__(self, models, weights, sim_options={}):\n",
        "        AlgoBase.__init__(self)\n",
        "        self.models = models\n",
        "        self.weights = weights\n",
        "\n",
        "    def fit(self, trainset):\n",
        "        AlgoBase.fit(self, trainset)\n",
        "        \n",
        "        for model in self.models:\n",
        "            model.fit(trainset)\n",
        "                \n",
        "        return self\n",
        "\n",
        "    def estimate(self, user_id, item_id):\n",
        "        \n",
        "        scores_sum = 0\n",
        "        weights_sum = 0\n",
        "        \n",
        "        for i in range(len(self.models)):\n",
        "            scores_sum += self.models[i].estimate(user_id, item_id) * self.weights[i] # 3*1/4+4*3/4 laga ra\n",
        "            weights_sum += self.weights[i] # always becomes one\n",
        "            \n",
        "        return scores_sum / weights_sum"
      ],
      "metadata": {
        "id": "xPxpehzP-Wlz"
      },
      "execution_count": null,
      "outputs": []
    },
    {
      "cell_type": "code",
      "source": [
        "class HybridFacto(surprise.AlgoBase):\n",
        "    def __init__(self,epochs, learning_rate,num_models):\n",
        "        self.alpha = np.array([1/len(num_models)]*len(num_models))\n",
        "        self.epochs = epochs\n",
        "        self.learning_rate = learning_rate\n",
        "    def fit(self,holdout):\n",
        "        holdout=holdout.build_full_trainset().build_testset()\n",
        "        for epoch in range(self.epochs):\n",
        "          predictions = np.array([collabKNN.test(holdout),funkSVD.test(holdout),coClus.test(holdout),slopeOne.test(holdout)])\n",
        "          maeGradient = [surprise.accuracy.mae(prediction) for prediction in predictions]\n",
        "          newalpha = self.alpha - learning_rate * maeGradient  \n",
        "            #convergence check:\n",
        "          if newalpha - self.alpha < 0.001:\n",
        "                break\n",
        "          self.alpha = newalpha\n",
        "    def estimate(self,u,i): \n",
        "          if not (self.trainset.knows_user(u) and self.trainset.knows_item(i)):\n",
        "            raise PredictionImpossible('User and/or item is unkown.')\n",
        "            algoResults = np.array([collabKNN.predict(u,i),funkSVD.predict(u,i),coClus.predict(u,i),slopeOne.predict(u,i)])\n",
        "            return np.sum(np.dot(self.alpha,algoResults))\n",
        "        "
      ],
      "metadata": {
        "id": "5Kai_pi0rTPV"
      },
      "execution_count": null,
      "outputs": []
    },
    {
      "cell_type": "code",
      "source": [
        "hybrid = HybridFacto(10,0.05,4)\n",
        "hybrid.fit(holdout)\n",
        "rmseHyb = []\n",
        "for trainset, testset in kSplit.split(data): #iterate through the folds.\n",
        "    predhybrid = hybrid.test(testset)\n",
        "    rmseHyb.append(surprise.accuracy.rmse(predhybrid))"
      ],
      "metadata": {
        "id": "YSeupAL6AsfK"
      },
      "execution_count": null,
      "outputs": []
    }
  ]
}